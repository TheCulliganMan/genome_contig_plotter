{
 "cells": [
  {
   "cell_type": "code",
   "execution_count": 1,
   "metadata": {
    "collapsed": true
   },
   "outputs": [],
   "source": [
    "#%matplotlib inline \n",
    "import matplotlib\n",
    "import numpy as np\n",
    "import matplotlib.pyplot as plt\n",
    "from scipy.interpolate import spline\n",
    "from copy import deepcopy"
   ]
  },
  {
   "cell_type": "code",
   "execution_count": 2,
   "metadata": {
    "collapsed": true
   },
   "outputs": [],
   "source": [
    "#!/usr/bin/env python\n",
    "# -*- coding: utf-8 -*-\n",
    "from __future__ import print_function\n",
    "import os\n",
    "import pandas as pd"
   ]
  },
  {
   "cell_type": "code",
   "execution_count": 3,
   "metadata": {
    "collapsed": false,
    "scrolled": true
   },
   "outputs": [],
   "source": [
    "files = []\n",
    "for fi in os.listdir(\"GenomeStats/scafs\"):\n",
    "    df = pd.read_csv(\n",
    "        'GenomeStats/scafs/{}'.format(fi),\n",
    "        sep='\\t',\n",
    "        header=None,\n",
    "        names=['contig', \"length\"]\n",
    "    )\n",
    "    #print('GenomeStats/scafs/{}'.format(fi), df['length'].max(), df['length'].min(), len(df['length']))\n",
    "    sorted_lens = df.sort_values(by='length', ascending=False)['length']\n",
    "    \n",
    "    files.append((fi, deepcopy(sorted_lens)))"
   ]
  },
  {
   "cell_type": "code",
   "execution_count": 4,
   "metadata": {
    "collapsed": false
   },
   "outputs": [],
   "source": [
    "for len_usable in [1000, 10000]:\n",
    "    fmt = 'eps'\n",
    "    plt.title('Top {} Scaffolds'.format(len_usable))\n",
    "    for name, fi in files:\n",
    "        x_range = range(len_usable)\n",
    "        y_range = np.log(fi[:len_usable])\n",
    "\n",
    "        plt.plot(x_range, y_range, label=name.split(\"_\",1)[0])\n",
    "\n",
    "    plt.xlabel('Scaffold number (length desc)')\n",
    "    plt.ylabel('Length (ln(Base_Pairs))')\n",
    "    plt.legend()\n",
    "    plt.savefig(\"scaffolds_{}.{}\".format(len_usable, fmt),format=fmt)\n",
    "    plt.show()"
   ]
  },
  {
   "cell_type": "code",
   "execution_count": 5,
   "metadata": {
    "collapsed": false
   },
   "outputs": [],
   "source": [
    "cont_files = []\n",
    "for fi in os.listdir(\"GenomeStats/contigs\"):\n",
    "    df = pd.read_csv(\n",
    "        'GenomeStats/contigs/{}'.format(fi),\n",
    "        sep='\\t',\n",
    "        header=None,\n",
    "        names=['contig', \"length\"]\n",
    "    )\n",
    "    #print('GenomeStats/contigs/{}'.format(fi), df['length'].max(), len(df['length']))\n",
    "    sorted_lens = df.sort_values(by='length', ascending=False)['length']\n",
    "    \n",
    "    cont_files.append((fi, deepcopy(sorted_lens)))"
   ]
  },
  {
   "cell_type": "code",
   "execution_count": 6,
   "metadata": {
    "collapsed": false
   },
   "outputs": [],
   "source": [
    "for len_usable in [5000, 50000]:\n",
    "    fmt = 'eps'\n",
    "    plt.title('Top {} Contigs'.format(len_usable))\n",
    "    for name, fi in cont_files:\n",
    "        x_range = range(len_usable)\n",
    "        y_range = np.log(fi[:len_usable])\n",
    "\n",
    "        plt.plot(x_range, y_range, label=name.split(\"_\",1)[0])\n",
    "\n",
    "    plt.xlabel('Contig number (length desc)')\n",
    "    plt.ylabel('Length (ln(Base_Pairs))')\n",
    "    plt.legend()\n",
    "    plt.savefig(\"contigs_{}.{}\".format(len_usable, fmt),format=fmt)\n",
    "    plt.show()"
   ]
  },
  {
   "cell_type": "code",
   "execution_count": null,
   "metadata": {
    "collapsed": true
   },
   "outputs": [],
   "source": []
  },
  {
   "cell_type": "code",
   "execution_count": null,
   "metadata": {
    "collapsed": true
   },
   "outputs": [],
   "source": []
  }
 ],
 "metadata": {
  "kernelspec": {
   "display_name": "Python 2",
   "language": "python",
   "name": "python2"
  },
  "language_info": {
   "codemirror_mode": {
    "name": "ipython",
    "version": 2
   },
   "file_extension": ".py",
   "mimetype": "text/x-python",
   "name": "python",
   "nbconvert_exporter": "python",
   "pygments_lexer": "ipython2",
   "version": "2.7.12"
  }
 },
 "nbformat": 4,
 "nbformat_minor": 0
}
